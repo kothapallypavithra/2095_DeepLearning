{
  "nbformat": 4,
  "nbformat_minor": 0,
  "metadata": {
    "colab": {
      "provenance": [],
      "authorship_tag": "ABX9TyMYzbECoKpOaSTnje7dNa+Q",
      "include_colab_link": true
    },
    "kernelspec": {
      "name": "python3",
      "display_name": "Python 3"
    },
    "language_info": {
      "name": "python"
    }
  },
  "cells": [
    {
      "cell_type": "markdown",
      "metadata": {
        "id": "view-in-github",
        "colab_type": "text"
      },
      "source": [
        "<a href=\"https://colab.research.google.com/github/kothapallypavithra/2095_DeepLearning/blob/main/2203A52095_DL_A2.ipynb\" target=\"_parent\"><img src=\"https://colab.research.google.com/assets/colab-badge.svg\" alt=\"Open In Colab\"/></a>"
      ]
    },
    {
      "cell_type": "code",
      "execution_count": 1,
      "metadata": {
        "colab": {
          "base_uri": "https://localhost:8080/"
        },
        "id": "zseY5RiZGte6",
        "outputId": "047af20f-7a70-425e-ef49-0b4840d45644"
      },
      "outputs": [
        {
          "output_type": "stream",
          "name": "stdout",
          "text": [
            "Confusion Matrix:\n",
            "0 [2, 1, 2]\n",
            "1 [2, 1, 2]\n",
            "2 [2, 1, 2]\n",
            "\n",
            "Accuracy: 0.3333333333333333\n",
            "Precision: {0: 0.3333333333333333, 1: 0.3333333333333333, 2: 0.3333333333333333}\n",
            "Recall: {0: 0.4, 1: 0.2, 2: 0.4}\n",
            "F1 Score: {0: 0.3636363636363636, 1: 0.25, 2: 0.3636363636363636}\n"
          ]
        }
      ],
      "source": [
        "# Data from Table 2\n",
        "y_actual = [0, 0, 0, 0, 0, 1, 1, 1, 1, 1, 2, 2, 2, 2, 2]\n",
        "y_pred = [0, 0, 1, 2, 2, 1, 0, 2, 0, 2, 0, 0, 1, 2, 2]\n",
        "\n",
        "# Initialize confusion matrix\n",
        "classes = sorted(set(y_actual))  # Unique classes: [0, 1, 2]\n",
        "confusion_matrix = {c: {c_: 0 for c_ in classes} for c in classes}\n",
        "\n",
        "# Fill confusion matrix\n",
        "for ya, yp in zip(y_actual, y_pred):\n",
        "    confusion_matrix[ya][yp] += 1\n",
        "\n",
        "# Metrics calculation\n",
        "total_correct = sum(confusion_matrix[c][c] for c in classes)\n",
        "total_samples = len(y_actual)\n",
        "\n",
        "# Accuracy\n",
        "accuracy = total_correct / total_samples\n",
        "\n",
        "# Precision, Recall, F1 Score for each class\n",
        "precision = {}\n",
        "recall = {}\n",
        "f1_score = {}\n",
        "\n",
        "for c in classes:\n",
        "    tp = confusion_matrix[c][c]\n",
        "    fp = sum(confusion_matrix[c_][c] for c_ in classes if c_ != c)\n",
        "    fn = sum(confusion_matrix[c][c_] for c_ in classes if c_ != c)\n",
        "    precision[c] = tp / (tp + fp) if tp + fp > 0 else 0\n",
        "    recall[c] = tp / (tp + fn) if tp + fn > 0 else 0\n",
        "    f1_score[c] = (2 * precision[c] * recall[c] / (precision[c] + recall[c])) if precision[c] + recall[c] > 0 else 0\n",
        "\n",
        "# Print results\n",
        "print(\"Confusion Matrix:\")\n",
        "for c in classes:\n",
        "    print(c, [confusion_matrix[c][c_] for c_ in classes])\n",
        "\n",
        "print(\"\\nAccuracy:\", accuracy)\n",
        "print(\"Precision:\", precision)\n",
        "print(\"Recall:\", recall)\n",
        "print(\"F1 Score:\", f1_score)"
      ]
    },
    {
      "cell_type": "code",
      "source": [
        "#with libraries\n",
        "from sklearn.metrics import confusion_matrix, accuracy_score, precision_score, recall_score, f1_score\n",
        "\n",
        "# Data from Table 2\n",
        "y_actual = [0, 0, 0, 0, 0, 1, 1, 1, 1, 1, 2, 2, 2, 2, 2]\n",
        "y_pred = [0, 0, 1, 2, 2, 1, 0, 2, 0, 2, 0, 0, 1, 2, 2]\n",
        "\n",
        "# Confusion Matrix\n",
        "cm = confusion_matrix(y_actual, y_pred)\n",
        "print(\"Confusion Matrix:\")\n",
        "print(cm)\n",
        "\n",
        "# Accuracy\n",
        "accuracy = accuracy_score(y_actual, y_pred)\n",
        "print(\"\\nAccuracy:\", accuracy)\n",
        "\n",
        "# Precision, Recall, F1 Score\n",
        "precision = precision_score(y_actual, y_pred, average=None)\n",
        "recall = recall_score(y_actual, y_pred, average=None)\n",
        "f1 = f1_score(y_actual, y_pred, average=None)\n",
        "\n",
        "print(\"Precision:\", precision)\n",
        "print(\"Recall:\", recall)\n",
        "print(\"F1 Score:\", f1)\n",
        "\n",
        "# Overall metrics (micro, macro, weighted averages)\n",
        "precision_overall = precision_score(y_actual, y_pred, average='macro')\n",
        "recall_overall = recall_score(y_actual, y_pred, average='macro')\n",
        "f1_overall = f1_score(y_actual, y_pred, average='macro')\n",
        "\n",
        "print(\"\\nOverall Precision (Macro):\", precision_overall)\n",
        "print(\"Overall Recall (Macro):\", recall_overall)\n",
        "print(\"Overall F1 Score (Macro):\", f1_overall)"
      ],
      "metadata": {
        "colab": {
          "base_uri": "https://localhost:8080/"
        },
        "id": "9BZwIx6PGvtK",
        "outputId": "70e4e07d-f3a9-42e4-df65-839e153125a7"
      },
      "execution_count": 2,
      "outputs": [
        {
          "output_type": "stream",
          "name": "stdout",
          "text": [
            "Confusion Matrix:\n",
            "[[2 1 2]\n",
            " [2 1 2]\n",
            " [2 1 2]]\n",
            "\n",
            "Accuracy: 0.3333333333333333\n",
            "Precision: [0.33333333 0.33333333 0.33333333]\n",
            "Recall: [0.4 0.2 0.4]\n",
            "F1 Score: [0.36363636 0.25       0.36363636]\n",
            "\n",
            "Overall Precision (Macro): 0.3333333333333333\n",
            "Overall Recall (Macro): 0.3333333333333333\n",
            "Overall F1 Score (Macro): 0.32575757575757575\n"
          ]
        }
      ]
    },
    {
      "cell_type": "code",
      "source": [],
      "metadata": {
        "id": "xwGZUfCNG3pC"
      },
      "execution_count": null,
      "outputs": []
    }
  ]
}