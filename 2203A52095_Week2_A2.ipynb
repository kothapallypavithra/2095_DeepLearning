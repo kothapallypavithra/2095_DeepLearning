{
  "nbformat": 4,
  "nbformat_minor": 0,
  "metadata": {
    "colab": {
      "provenance": [],
      "authorship_tag": "ABX9TyMz2VNTq8IYRUnh3UgLwpAp",
      "include_colab_link": true
    },
    "kernelspec": {
      "name": "python3",
      "display_name": "Python 3"
    },
    "language_info": {
      "name": "python"
    }
  },
  "cells": [
    {
      "cell_type": "markdown",
      "metadata": {
        "id": "view-in-github",
        "colab_type": "text"
      },
      "source": [
        "<a href=\"https://colab.research.google.com/github/kothapallypavithra/2095_DeepLearning/blob/main/2203A52095_Week2_A2.ipynb\" target=\"_parent\"><img src=\"https://colab.research.google.com/assets/colab-badge.svg\" alt=\"Open In Colab\"/></a>"
      ]
    },
    {
      "cell_type": "markdown",
      "source": [
        "Without importing Libraries"
      ],
      "metadata": {
        "id": "UAzZ8pybLKIl"
      }
    },
    {
      "cell_type": "code",
      "source": [
        "milk_limit = 5\n",
        "choco_limit = 12\n",
        "max_profit = 0\n",
        "best_A = 0\n",
        "best_B = 0\n",
        "for A in range(milk_limit + 1):\n",
        "    for B in range(milk_limit + 1):\n",
        "        if A + B <= milk_limit and 3 * A + 2 * B <= choco_limit:\n",
        "            profit = 6 * A + 5 * B\n",
        "            if profit > max_profit:\n",
        "                max_profit = profit\n",
        "                best_A = A\n",
        "                best_B = B\n",
        "print(f\"Maximum profit: Rs {max_profit}\")\n",
        "print(f\"Number of chocolates A: {best_A}\")\n",
        "print(f\"Number of chocolates B: {best_B}\")"
      ],
      "metadata": {
        "colab": {
          "base_uri": "https://localhost:8080/"
        },
        "id": "Z1lGY_m8GW2O",
        "outputId": "f4b980da-f02a-49cd-982c-c268281cc540"
      },
      "execution_count": 1,
      "outputs": [
        {
          "output_type": "stream",
          "name": "stdout",
          "text": [
            "Maximum profit: Rs 27\n",
            "Number of chocolates A: 2\n",
            "Number of chocolates B: 3\n"
          ]
        }
      ]
    },
    {
      "cell_type": "code",
      "source": [
        "from scipy.optimize import linprog\n",
        "objective = [-6, -5]\n",
        "lhs_ineq = [\n",
        "    [1, 1],\n",
        "    [3, 2]\n",
        "]\n",
        "rhs_ineq = [5, 12]\n",
        "bounds = [(0, None), (0, None)]\n",
        "result = linprog(c=objective, A_ub=lhs_ineq, b_ub=rhs_ineq, bounds=bounds, method=\"highs\")\n",
        "if result.success:\n",
        "    print(f\"Maximum profit: Rs {-result.fun:.2f}\")\n",
        "    print(f\"Number of chocolates A: {result.x[0]:.2f}\")\n",
        "    print(f\"Number of chocolates B: {result.x[1]:.2f}\")\n",
        "else:\n",
        "    print(\"No solution found.\")"
      ],
      "metadata": {
        "colab": {
          "base_uri": "https://localhost:8080/"
        },
        "id": "82RtV317IvFZ",
        "outputId": "cdc2002e-5f54-494f-a159-a46658974f8f"
      },
      "execution_count": 2,
      "outputs": [
        {
          "output_type": "stream",
          "name": "stdout",
          "text": [
            "Maximum profit: Rs 27.00\n",
            "Number of chocolates A: 2.00\n",
            "Number of chocolates B: 3.00\n"
          ]
        }
      ]
    },
    {
      "cell_type": "code",
      "source": [
        "total_land = 100\n",
        "total_budget = 700000\n",
        "total_labor = 1200\n",
        "wheat_cost = 7000\n",
        "barley_cost = 2000\n",
        "wheat_labor = 10\n",
        "barley_labor = 30\n",
        "wheat_profit = 50\n",
        "barley_profit = 120\n",
        "max_profit = 0\n",
        "best_x1 = 0\n",
        "best_x2 = 0\n",
        "for x1 in range(total_land * 10 + 1):\n",
        "    x1 = x1 / 10.0\n",
        "    for x2 in range(total_land * 10 + 1):\n",
        "        x2 = x2 / 10.0\n",
        "        if x1 + x2 <= total_land and \\\n",
        "           wheat_cost * x1 + barley_cost * x2 <= total_budget and \\\n",
        "           wheat_labor * x1 + barley_labor * x2 <= total_labor:\n",
        "            profit = wheat_profit * x1 + barley_profit * x2\n",
        "            if profit > max_profit:\n",
        "                max_profit = profit\n",
        "                best_x1 = x1\n",
        "                best_x2 = x2\n",
        "print(f\"Maximum profit: Rs {max_profit}\")\n",
        "print(f\"Optimal area for Wheat: {best_x1} hectares\")\n",
        "print(f\"Optimal area for Barley: {best_x2} hectares\")"
      ],
      "metadata": {
        "colab": {
          "base_uri": "https://localhost:8080/"
        },
        "id": "yjZP6tcTIvYH",
        "outputId": "5f043e9c-6f58-4e82-be8a-5e7cd7d35fd5"
      },
      "execution_count": 5,
      "outputs": [
        {
          "output_type": "stream",
          "name": "stdout",
          "text": [
            "Maximum profit: Rs 5700.0\n",
            "Optimal area for Wheat: 90.0 hectares\n",
            "Optimal area for Barley: 10.0 hectares\n"
          ]
        }
      ]
    },
    {
      "cell_type": "code",
      "source": [
        "from scipy.optimize import linprog\n",
        "objective = [-50, -120]\n",
        "lhs_ineq = [\n",
        "    [1, 1],\n",
        "    [7000, 2000],\n",
        "    [10, 30]\n",
        "]\n",
        "rhs_ineq = [100, 700000, 1200]\n",
        "bounds = [(0, None), (0, None)]\n",
        "result = linprog(c=objective, A_ub=lhs_ineq, b_ub=rhs_ineq, bounds=bounds, method=\"highs\")\n",
        "if result.success:\n",
        "    print(f\"Maximum profit: Rs {-result.fun:.2f}\")\n",
        "    print(f\"Optimal area for Wheat: {result.x[0]:.2f} hectares\")\n",
        "    print(f\"Optimal area for Barley: {result.x[1]:.2f} hectares\")\n",
        "else:\n",
        "    print(\"No solution found.\")"
      ],
      "metadata": {
        "colab": {
          "base_uri": "https://localhost:8080/"
        },
        "id": "SkbPw-C5Ixm9",
        "outputId": "3529d353-139c-4ec6-d6a1-551d33e67664"
      },
      "execution_count": 6,
      "outputs": [
        {
          "output_type": "stream",
          "name": "stdout",
          "text": [
            "Maximum profit: Rs 5700.00\n",
            "Optimal area for Wheat: 90.00 hectares\n",
            "Optimal area for Barley: 10.00 hectares\n"
          ]
        }
      ]
    },
    {
      "cell_type": "code",
      "source": [],
      "metadata": {
        "id": "msjH7lXEI3mB"
      },
      "execution_count": null,
      "outputs": []
    }
  ]
}