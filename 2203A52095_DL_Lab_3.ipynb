{
  "nbformat": 4,
  "nbformat_minor": 0,
  "metadata": {
    "colab": {
      "provenance": [],
      "include_colab_link": true
    },
    "kernelspec": {
      "name": "python3",
      "display_name": "Python 3"
    },
    "language_info": {
      "name": "python"
    }
  },
  "cells": [
    {
      "cell_type": "markdown",
      "metadata": {
        "id": "view-in-github",
        "colab_type": "text"
      },
      "source": [
        "<a href=\"https://colab.research.google.com/github/kothapallypavithra/2095_DeepLearning/blob/main/2203A52095_DL_Lab_3.ipynb\" target=\"_parent\"><img src=\"https://colab.research.google.com/assets/colab-badge.svg\" alt=\"Open In Colab\"/></a>"
      ]
    },
    {
      "cell_type": "code",
      "source": [
        "def f(x):\n",
        "    return 5 * x*4 + 3 * x*2 + 10\n",
        "def f_prime(x):\n",
        "    return 20 * x**3 + 6 * x\n",
        "def gradient_descent_without_libs(initial_x, learning_rate, tolerance, max_iterations):\n",
        "    x = initial_x\n",
        "    iteration = 0\n",
        "    while iteration < max_iterations:\n",
        "        grad = f_prime(x)\n",
        "        new_x = x - learning_rate * grad\n",
        "        if abs(new_x - x) < tolerance:\n",
        "            break\n",
        "        x = new_x\n",
        "        iteration += 1\n",
        "    return x, f(x), iteration\n",
        "initial_x = 1.0\n",
        "learning_rate = 0.01\n",
        "tolerance = 1e-6\n",
        "max_iterations = 10000\n",
        "min_x, min_f, iterations = gradient_descent_without_libs(initial_x, learning_rate, tolerance, max_iterations)\n",
        "print(f\"Minimum value of f(x) is approximately {min_f} at x = {min_x} after {iterations} iterations.\")"
      ],
      "metadata": {
        "colab": {
          "base_uri": "https://localhost:8080/"
        },
        "id": "4YYi9rl0WEBc",
        "outputId": "cf6e0fa3-d516-4816-8eba-a05d8907c2f0"
      },
      "execution_count": 13,
      "outputs": [
        {
          "output_type": "stream",
          "name": "stdout",
          "text": [
            "Minimum value of f(x) is approximately 10.000425323870935 at x = 1.63586104206045e-05 after 165 iterations.\n"
          ]
        }
      ]
    },
    {
      "cell_type": "code",
      "source": [
        "def g(x, y):\n",
        "    return 3 * x*2 + 5 * (2.71828*(-y)) + 10\n",
        "def g_prime_x(x, y):\n",
        "    return 6 * x\n",
        "def g_prime_y(x, y):\n",
        "    return -5 * (2.71828**(-y))\n",
        "def gradient_descent_without_libs(initial_x, initial_y, learning_rate, tolerance, max_iterations):\n",
        "    x, y = initial_x, initial_y\n",
        "    iteration = 0\n",
        "    while iteration < max_iterations:\n",
        "        grad_x = g_prime_x(x, y)\n",
        "        grad_y = g_prime_y(x, y)\n",
        "        new_x = x - learning_rate * grad_x\n",
        "        new_y = y - learning_rate * grad_y\n",
        "        if abs(new_x - x) < tolerance and abs(new_y - y) < tolerance:\n",
        "            break\n",
        "        x, y = new_x, new_y\n",
        "        iteration += 1\n",
        "    return x, y, g(x, y), iteration\n",
        "initial_x = random.uniform(-10,10)\n",
        "initial_y = random.uniform(-10,10)\n",
        "learning_rate = 0.01\n",
        "tolerance = 1e-6\n",
        "max_iterations = 10000\n",
        "min_x, min_y, min_g, iterations = gradient_descent_without_libs(initial_x, initial_y, learning_rate, tolerance, max_iterations)\n",
        "print(f\"Minimum value of g(x, y) is approximately {min_g} at x = {min_x}, y = {min_y} after {iterations} iterations.\")"
      ],
      "metadata": {
        "colab": {
          "base_uri": "https://localhost:8080/"
        },
        "id": "Y_p0YtaRWNIu",
        "outputId": "209e8fe2-1b46-419b-b347-963de5db8e01"
      },
      "execution_count": 14,
      "outputs": [
        {
          "output_type": "stream",
          "name": "stdout",
          "text": [
            "Minimum value of g(x, y) is approximately -74.49730533733586 at x = -2.3570908519935783e-269, y = 6.216968475457706 after 10000 iterations.\n"
          ]
        }
      ]
    },
    {
      "cell_type": "code",
      "source": [
        "def z(x):\n",
        "    return 1 / (1 + 2.71828**(-x))\n",
        "def z_prime(x):\n",
        "    sigmoid = z(x)\n",
        "    return sigmoid * (1 - sigmoid)\n",
        "def gradient_descent_without_libs(initial_x, learning_rate, tolerance, max_iterations):\n",
        "    x = initial_x\n",
        "    iteration = 0\n",
        "    while iteration < max_iterations:\n",
        "        grad = z_prime(x)\n",
        "        new_x = x - learning_rate * grad\n",
        "        if abs(new_x - x) < tolerance:\n",
        "            break\n",
        "        x = new_x\n",
        "        iteration += 1\n",
        "    return x, z_prime(x), iteration\n",
        "initial_x = random.uniform(-10,10)\n",
        "learning_rate = 0.01\n",
        "tolerance = 1e-6\n",
        "max_iterations = 10000\n",
        "min_x, min_z_prime, iterations = gradient_descent_without_libs(initial_x, learning_rate, tolerance, max_iterations)\n",
        "print(f\"Minimum value of z'(x) is approximately {min_z_prime} at x = {min_x} after {iterations} iterations.\")"
      ],
      "metadata": {
        "colab": {
          "base_uri": "https://localhost:8080/"
        },
        "id": "gtxs4YWDWQ3Q",
        "outputId": "c5969671-0f6f-4143-da22-b32adbf48831"
      },
      "execution_count": 15,
      "outputs": [
        {
          "output_type": "stream",
          "name": "stdout",
          "text": [
            "Minimum value of z'(x) is approximately 0.006676730682989839 at x = -4.995640972992045 after 10000 iterations.\n"
          ]
        }
      ]
    },
    {
      "cell_type": "code",
      "source": [
        "import numpy as np\n",
        "def g(x, y):\n",
        "    return 3 * x**2 + 5 * np.exp(-y) + 10\n",
        "def g_prime_x(x, y):\n",
        "    return 6 * x\n",
        "def g_prime_y(x, y):\n",
        "    return -5 * np.exp(-y)\n",
        "def gradient_descent_with_libs(initial_x, initial_y, learning_rate, tolerance, max_iterations):\n",
        "    x, y = initial_x, initial_y\n",
        "    for iteration in range(max_iterations):\n",
        "        grad_x = g_prime_x(x, y)\n",
        "        grad_y = g_prime_y(x, y)\n",
        "        new_x = x - learning_rate * grad_x\n",
        "        new_y = y - learning_rate * grad_y\n",
        "        if np.abs(new_x - x) < tolerance and np.abs(new_y - y) < tolerance:\n",
        "            break\n",
        "        x, y = new_x, new_y\n",
        "    return x, y, g(x, y), iteration + 1\n",
        "initial_x = random.uniform(-10,10)\n",
        "initial_y = random.uniform(-10,10)\n",
        "learning_rate = 0.01\n",
        "tolerance = 1e-6\n",
        "max_iterations = 10000\n",
        "min_x, min_y, min_g, iterations = gradient_descent_with_libs(initial_x, initial_y, learning_rate, tolerance, max_iterations)\n",
        "print(f\"Minimum value of g(x, y) is approximately {min_g} at x = {min_x}, y = {min_y} after {iterations} iterations.\")"
      ],
      "metadata": {
        "colab": {
          "base_uri": "https://localhost:8080/"
        },
        "id": "hjFJE4HwWV77",
        "outputId": "8bec0d78-3886-462d-9ee7-a7340fc9a04f"
      },
      "execution_count": 16,
      "outputs": [
        {
          "output_type": "stream",
          "name": "stdout",
          "text": [
            "Minimum value of g(x, y) is approximately 10.00000000079262 at x = 1.625443513086549e-05, y = 641.6140138265889 after 205 iterations.\n"
          ]
        }
      ]
    },
    {
      "cell_type": "code",
      "execution_count": 17,
      "metadata": {
        "colab": {
          "base_uri": "https://localhost:8080/"
        },
        "id": "50o8grc1NObN",
        "outputId": "4ff4360e-15b8-4c57-83aa-4801609bb69b"
      },
      "outputs": [
        {
          "output_type": "stream",
          "name": "stdout",
          "text": [
            "M: 0.34270501936846787\n",
            "C: -0.18541003873693568\n"
          ]
        }
      ],
      "source": [
        "import random\n",
        "M = random.uniform(-10, 10)\n",
        "C = random.uniform(-10, 10)\n",
        "x = 2\n",
        "y = 0.5\n",
        "alpha = 0.1\n",
        "\n",
        "for i in range(100):\n",
        "    y_p = M * x + C\n",
        "\n",
        "    dM = -2 * x * (y - y_p)\n",
        "    dC = -2 * (y - y_p)\n",
        "\n",
        "     # Update parameters\n",
        "    M = M - alpha * dM\n",
        "    C = C - alpha * dC\n",
        "\n",
        "print(f\"M: {M}\")\n",
        "print(f\"C: {C}\")\n",
        "\n"
      ]
    },
    {
      "cell_type": "code",
      "source": [],
      "metadata": {
        "id": "t96IpRO3QJVK"
      },
      "execution_count": 17,
      "outputs": []
    }
  ]
}